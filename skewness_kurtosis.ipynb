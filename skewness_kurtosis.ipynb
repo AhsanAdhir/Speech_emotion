{
  "nbformat": 4,
  "nbformat_minor": 0,
  "metadata": {
    "colab": {
      "provenance": []
    },
    "kernelspec": {
      "name": "python3",
      "display_name": "Python 3"
    },
    "language_info": {
      "name": "python"
    }
  },
  "cells": [
    {
      "cell_type": "code",
      "execution_count": null,
      "metadata": {
        "id": "AtU6TGfCi6Sr"
      },
      "outputs": [],
      "source": [
        "import numpy as np\n",
        "from scipy.io import loadmat\n",
        "from scipy.stats import skew, kurtosis\n",
        "import glob\n",
        "\n",
        "# === Load .mat files ===\n",
        "feature_files = sorted(glob.glob('features_sample*.mat'))\n",
        "\n",
        "for f in feature_files:\n",
        "    print(f\"\\n--- {f} ---\")\n",
        "    data = loadmat(f)\n",
        "\n",
        "    # Features from MATLAB\n",
        "    mfcc = data['mfcc']\n",
        "    centroid = data['centroid']\n",
        "    rolloff = data['rolloff']\n",
        "    mel = data['mel']\n",
        "    chroma = data['chroma']\n",
        "\n",
        "    # Calculate and print skewness and kurtosis for each\n",
        "    def print_stats(name, feat):\n",
        "        sk = skew(feat, axis=1)\n",
        "        ku = kurtosis(feat, axis=1)\n",
        "        print(f\"{name} - Skewness:\\n{sk}\")\n",
        "        print(f\"{name} - Kurtosis:\\n{ku}\\n\")\n",
        "\n",
        "    print_stats(\"MFCC\", mfcc)\n",
        "    print_stats(\"Centroid\", centroid)\n",
        "    print_stats(\"Rolloff\", rolloff)\n",
        "    print_stats(\"Mel Spectrogram\", mel)\n",
        "    print_stats(\"Chroma\", chroma)\n"
      ]
    }
  ]
}