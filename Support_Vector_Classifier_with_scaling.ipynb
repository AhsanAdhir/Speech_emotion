{
  "cells": [
    {
      "cell_type": "code",
      "execution_count": null,
      "metadata": {
        "id": "fehE3ivnWiio"
      },
      "outputs": [],
      "source": [
        "import numpy as np\n",
        "from scipy.io import loadmat\n",
        "from sklearn.svm import SVC\n",
        "from sklearn.model_selection import train_test_split\n",
        "from sklearn.preprocessing import LabelEncoder, StandardScaler\n",
        "from sklearn.metrics import classification_report\n",
        "import glob\n",
        "\n",
        "# === Function to summarize features (mean, std, min, max) ===\n",
        "def summarize_feature(feat):\n",
        "    return np.hstack([\n",
        "        np.mean(feat, axis=1),\n",
        "        np.std(feat, axis=1),\n",
        "        np.min(feat, axis=1),\n",
        "        np.max(feat, axis=1)\n",
        "    ])\n",
        "\n",
        "# === Load features and labels ===\n",
        "feature_files = sorted(glob.glob('features_sample*.mat'))\n",
        "X = []\n",
        "y = []\n",
        "\n",
        "for f in feature_files:\n",
        "    data = loadmat(f)\n",
        "    mfcc = data['mfcc']\n",
        "    centroid = data['centroid']\n",
        "    rolloff = data['rolloff']\n",
        "    mel = data['mel']\n",
        "    chroma = data['chroma']\n",
        "    \n",
        "    # Summarize and combine all features into one vector\n",
        "    feature_vector = np.hstack([\n",
        "        summarize_feature(mfcc),\n",
        "        summarize_feature(centroid),\n",
        "        summarize_feature(rolloff),\n",
        "        summarize_feature(mel),\n",
        "        summarize_feature(chroma)\n",
        "    ])\n",
        "    X.append(feature_vector)\n",
        "\n",
        "# Read labels from file\n",
        "with open('labels.txt', 'r') as f:\n",
        "    for line in f:\n",
        "        y.append(line.strip())\n",
        "\n",
        "# Convert to numpy arrays\n",
        "X = np.array(X)\n",
        "y = np.array(y)\n",
        "\n",
        "# Encode string labels into integers\n",
        "le = LabelEncoder()\n",
        "y_encoded = le.fit_transform(y)\n",
        "\n",
        "# Split data into train and test sets (80% train, 20% test)\n",
        "X_train, X_test, y_train, y_test = train_test_split(\n",
        "    X, y_encoded, test_size=0.2, random_state=42, stratify=y_encoded\n",
        ")\n",
        "\n",
        "# Standardize features (zero mean, unit variance)\n",
        "scaler = StandardScaler()\n",
        "X_train = scaler.fit_transform(X_train)\n",
        "X_test = scaler.transform(X_test)\n",
        "\n",
        "# Train SVM classifier with RBF kernel\n",
        "clf = SVC(kernel='rbf', C=1, gamma='auto', random_state=42)\n",
        "clf.fit(X_train, y_train)\n",
        "\n",
        "# Predict and print classification report\n",
        "y_pred = clf.predict(X_test)\n",
        "print(classification_report(y_test, y_pred, target_names=le.classes_))\n"
      ]
    }
  ],
  "metadata": {
    "colab": {
      "provenance": []
    },
    "kernelspec": {
      "display_name": "Python 3",
      "name": "python3"
    },
    "language_info": {
      "name": "python"
    }
  },
  "nbformat": 4,
  "nbformat_minor": 0
}
