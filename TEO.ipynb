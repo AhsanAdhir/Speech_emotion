{
  "nbformat": 4,
  "nbformat_minor": 0,
  "metadata": {
    "colab": {
      "provenance": []
    },
    "kernelspec": {
      "name": "python3",
      "display_name": "Python 3"
    },
    "language_info": {
      "name": "python"
    }
  },
  "cells": [
    {
      "cell_type": "code",
      "execution_count": null,
      "metadata": {
        "id": "9zRApEyfpeMh"
      },
      "outputs": [],
      "source": [
        "import numpy as np\n",
        "from scipy.io import loadmat\n",
        "from scipy.stats import skew, kurtosis\n",
        "import glob\n",
        "\n",
        "def teager_kaiser_energy_operator(signal):\n",
        "    \"\"\"\n",
        "    Calculates the Teager-Kaiser Energy Operator (TKEO) for a 1D signal.\n",
        "    \"\"\"\n",
        "    tkeo_signal = np.zeros_like(signal, dtype=float)\n",
        "    for i in range(1, len(signal) - 1):\n",
        "        tkeo_signal[i] = signal[i]**2 - (signal[i+1] * signal[i-1])\n",
        "    return tkeo_signal\n",
        "\n",
        "def apply_tkeo_to_feature_matrix(feature_matrix):\n",
        "    \"\"\"\n",
        "    Applies TKEO to each row (feature dimension) of a 2D feature matrix.\n",
        "    \"\"\"\n",
        "    result = []\n",
        "    for row in feature_matrix:\n",
        "        tkeo_row = teager_kaiser_energy_operator(row)\n",
        "        result.append(tkeo_row)\n",
        "    return np.array(result)\n",
        "\n",
        "# === Load MATLAB files ===\n",
        "feature_files = sorted(glob.glob('features_sample*.mat'))\n",
        "\n",
        "for f in feature_files:\n",
        "    print(f\"\\n--- {f} ---\")\n",
        "    data = loadmat(f)\n",
        "\n",
        "    # Load each feature matrix\n",
        "    mfcc     = data['mfcc']\n",
        "    centroid = data['centroid']\n",
        "    rolloff  = data['rolloff']\n",
        "    mel      = data['mel']\n",
        "    chroma   = data['chroma']\n",
        "\n",
        "    # Apply TKEO to each feature type\n",
        "    features = {\n",
        "        \"MFCC\": apply_tkeo_to_feature_matrix(mfcc),\n",
        "        \"Centroid\": apply_tkeo_to_feature_matrix(centroid),\n",
        "        \"Rolloff\": apply_tkeo_to_feature_matrix(rolloff),\n",
        "        \"Mel\": apply_tkeo_to_feature_matrix(mel),\n",
        "        \"Chroma\": apply_tkeo_to_feature_matrix(chroma)\n",
        "    }\n",
        "\n",
        "    # Compute and display skewness and kurtosis\n",
        "    for name, feat_tkeo in features.items():\n",
        "        sk = skew(feat_tkeo, axis=1)\n",
        "        ku = kurtosis(feat_tkeo, axis=1)\n",
        "        print(f\"{name} - Skewness (TKEO):\\n{np.round(sk, 4)}\")\n",
        "        print(f\"{name} - Kurtosis (TKEO):\\n{np.round(ku, 4)}\\n\")\n"
      ]
    }
  ]
}